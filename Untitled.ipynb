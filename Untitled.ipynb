{
 "cells": [
  {
   "cell_type": "code",
   "execution_count": 4,
   "id": "f02bfa2b-8dc4-4e2a-a9cd-956088ac0f57",
   "metadata": {},
   "outputs": [
    {
     "name": "stdout",
     "output_type": "stream",
     "text": [
      "Fetching all parameters from the checkpoint at C:/Users/msamwelmollel/Documents/llama-2-7b.\n",
      "Loading the checkpoint in a Llama model.\n",
      "Saving in the Transformers format.\n"
     ]
    },
    {
     "name": "stderr",
     "output_type": "stream",
     "text": [
      "You are using the default legacy behaviour of the <class 'transformers.models.llama.tokenization_llama.LlamaTokenizer'>. This is expected, and simply means that the `legacy` (previous) behavior will be used so nothing changes for you. If you want to use the new behaviour, set `legacy=False`. This should only be set if you understand what it means, and thoroughly read the reason why this was added as explained in https://github.com/huggingface/transformers/pull/24565\n",
      "\n",
      "Loading checkpoint shards:   0%|          | 0/33 [00:00<?, ?it/s]\n",
      "Loading checkpoint shards:   3%|3         | 1/33 [00:00<00:03,  8.05it/s]\n",
      "Loading checkpoint shards:   9%|9         | 3/33 [00:00<00:02, 10.12it/s]\n",
      "Loading checkpoint shards:  15%|#5        | 5/33 [00:00<00:02, 11.01it/s]\n",
      "Loading checkpoint shards:  21%|##1       | 7/33 [00:00<00:02, 11.41it/s]\n",
      "Loading checkpoint shards:  27%|##7       | 9/33 [00:00<00:02, 11.83it/s]\n",
      "Loading checkpoint shards:  33%|###3      | 11/33 [00:00<00:01, 11.91it/s]\n",
      "Loading checkpoint shards:  39%|###9      | 13/33 [00:01<00:01, 12.28it/s]\n",
      "Loading checkpoint shards:  45%|####5     | 15/33 [00:01<00:01, 11.75it/s]\n",
      "Loading checkpoint shards:  52%|#####1    | 17/33 [00:01<00:01, 11.52it/s]\n",
      "Loading checkpoint shards:  58%|#####7    | 19/33 [00:01<00:01, 11.50it/s]\n",
      "Loading checkpoint shards:  64%|######3   | 21/33 [00:01<00:01, 11.61it/s]\n",
      "Loading checkpoint shards:  70%|######9   | 23/33 [00:01<00:00, 11.59it/s]\n",
      "Loading checkpoint shards:  76%|#######5  | 25/33 [00:02<00:00, 11.88it/s]\n",
      "Loading checkpoint shards:  82%|########1 | 27/33 [00:02<00:00, 12.02it/s]\n",
      "Loading checkpoint shards:  88%|########7 | 29/33 [00:02<00:00, 11.63it/s]\n",
      "Loading checkpoint shards:  94%|#########3| 31/33 [00:02<00:00, 10.89it/s]\n",
      "Loading checkpoint shards: 100%|##########| 33/33 [00:02<00:00,  9.82it/s]\n",
      "Loading checkpoint shards: 100%|##########| 33/33 [00:02<00:00, 11.13it/s]\n"
     ]
    }
   ],
   "source": [
    "!python c:/users/msamwelmollel/anaconda3/envs/python310/lib/site-packages/transformers/models/llama/convert_llama_weights_to_hf.py \\\n",
    "    --input_dir C:/Users/msamwelmollel/Documents/llama-2-7b \\\n",
    "    --model_size 7B \\\n",
    "    --output_dir C:/Users/msamwelmollel/Documents/llama_output"
   ]
  },
  {
   "cell_type": "code",
   "execution_count": 3,
   "id": "15b7bf32-1e58-4258-8ce1-aa157caf431d",
   "metadata": {},
   "outputs": [
    {
     "name": "stdout",
     "output_type": "stream",
     "text": [
      "Collecting accelerate\n",
      "  Downloading accelerate-0.27.2-py3-none-any.whl.metadata (18 kB)\n",
      "Requirement already satisfied: numpy>=1.17 in c:\\users\\msamwelmollel\\anaconda3\\envs\\python310\\lib\\site-packages (from accelerate) (1.26.3)\n",
      "Requirement already satisfied: packaging>=20.0 in c:\\users\\msamwelmollel\\anaconda3\\envs\\python310\\lib\\site-packages (from accelerate) (23.1)\n",
      "Requirement already satisfied: psutil in c:\\users\\msamwelmollel\\anaconda3\\envs\\python310\\lib\\site-packages (from accelerate) (5.9.0)\n",
      "Requirement already satisfied: pyyaml in c:\\users\\msamwelmollel\\anaconda3\\envs\\python310\\lib\\site-packages (from accelerate) (6.0.1)\n",
      "Requirement already satisfied: torch>=1.10.0 in c:\\users\\msamwelmollel\\anaconda3\\envs\\python310\\lib\\site-packages (from accelerate) (2.2.0+cu121)\n",
      "Requirement already satisfied: huggingface-hub in c:\\users\\msamwelmollel\\anaconda3\\envs\\python310\\lib\\site-packages (from accelerate) (0.20.3)\n",
      "Requirement already satisfied: safetensors>=0.3.1 in c:\\users\\msamwelmollel\\anaconda3\\envs\\python310\\lib\\site-packages (from accelerate) (0.4.2)\n",
      "Requirement already satisfied: filelock in c:\\users\\msamwelmollel\\anaconda3\\envs\\python310\\lib\\site-packages (from torch>=1.10.0->accelerate) (3.9.0)\n",
      "Requirement already satisfied: typing-extensions>=4.8.0 in c:\\users\\msamwelmollel\\anaconda3\\envs\\python310\\lib\\site-packages (from torch>=1.10.0->accelerate) (4.8.0)\n",
      "Requirement already satisfied: sympy in c:\\users\\msamwelmollel\\anaconda3\\envs\\python310\\lib\\site-packages (from torch>=1.10.0->accelerate) (1.12)\n",
      "Requirement already satisfied: networkx in c:\\users\\msamwelmollel\\anaconda3\\envs\\python310\\lib\\site-packages (from torch>=1.10.0->accelerate) (3.2.1)\n",
      "Requirement already satisfied: jinja2 in c:\\users\\msamwelmollel\\anaconda3\\envs\\python310\\lib\\site-packages (from torch>=1.10.0->accelerate) (3.1.2)\n",
      "Requirement already satisfied: fsspec in c:\\users\\msamwelmollel\\anaconda3\\envs\\python310\\lib\\site-packages (from torch>=1.10.0->accelerate) (2023.10.0)\n",
      "Requirement already satisfied: requests in c:\\users\\msamwelmollel\\anaconda3\\envs\\python310\\lib\\site-packages (from huggingface-hub->accelerate) (2.31.0)\n",
      "Requirement already satisfied: tqdm>=4.42.1 in c:\\users\\msamwelmollel\\anaconda3\\envs\\python310\\lib\\site-packages (from huggingface-hub->accelerate) (4.66.2)\n",
      "Requirement already satisfied: colorama in c:\\users\\msamwelmollel\\anaconda3\\envs\\python310\\lib\\site-packages (from tqdm>=4.42.1->huggingface-hub->accelerate) (0.4.6)\n",
      "Requirement already satisfied: MarkupSafe>=2.0 in c:\\users\\msamwelmollel\\anaconda3\\envs\\python310\\lib\\site-packages (from jinja2->torch>=1.10.0->accelerate) (2.1.3)\n",
      "Requirement already satisfied: charset-normalizer<4,>=2 in c:\\users\\msamwelmollel\\anaconda3\\envs\\python310\\lib\\site-packages (from requests->huggingface-hub->accelerate) (2.0.4)\n",
      "Requirement already satisfied: idna<4,>=2.5 in c:\\users\\msamwelmollel\\anaconda3\\envs\\python310\\lib\\site-packages (from requests->huggingface-hub->accelerate) (3.4)\n",
      "Requirement already satisfied: urllib3<3,>=1.21.1 in c:\\users\\msamwelmollel\\anaconda3\\envs\\python310\\lib\\site-packages (from requests->huggingface-hub->accelerate) (1.26.13)\n",
      "Requirement already satisfied: certifi>=2017.4.17 in c:\\users\\msamwelmollel\\anaconda3\\envs\\python310\\lib\\site-packages (from requests->huggingface-hub->accelerate) (2022.12.7)\n",
      "Requirement already satisfied: mpmath>=0.19 in c:\\users\\msamwelmollel\\anaconda3\\envs\\python310\\lib\\site-packages (from sympy->torch>=1.10.0->accelerate) (1.3.0)\n",
      "Downloading accelerate-0.27.2-py3-none-any.whl (279 kB)\n",
      "   ---------------------------------------- 0.0/280.0 kB ? eta -:--:--\n",
      "   - -------------------------------------- 10.2/280.0 kB ? eta -:--:--\n",
      "   - -------------------------------------- 10.2/280.0 kB ? eta -:--:--\n",
      "   ---- ---------------------------------- 30.7/280.0 kB 435.7 kB/s eta 0:00:01\n",
      "   -------- ------------------------------ 61.4/280.0 kB 469.7 kB/s eta 0:00:01\n",
      "   ------------ -------------------------- 92.2/280.0 kB 581.0 kB/s eta 0:00:01\n",
      "   --------------- ---------------------- 112.6/280.0 kB 544.7 kB/s eta 0:00:01\n",
      "   ---------------------- --------------- 163.8/280.0 kB 701.4 kB/s eta 0:00:01\n",
      "   --------------------------- ---------- 204.8/280.0 kB 778.2 kB/s eta 0:00:01\n",
      "   -------------------------------------  276.5/280.0 kB 896.4 kB/s eta 0:00:01\n",
      "   -------------------------------------- 280.0/280.0 kB 822.4 kB/s eta 0:00:00\n",
      "Installing collected packages: accelerate\n",
      "Successfully installed accelerate-0.27.2\n"
     ]
    }
   ],
   "source": [
    "!pip install accelerate"
   ]
  },
  {
   "cell_type": "code",
   "execution_count": null,
   "id": "84549373-5597-458d-824c-c29302a831e7",
   "metadata": {},
   "outputs": [],
   "source": []
  }
 ],
 "metadata": {
  "kernelspec": {
   "display_name": "Python 3 (ipykernel)",
   "language": "python",
   "name": "python3"
  },
  "language_info": {
   "codemirror_mode": {
    "name": "ipython",
    "version": 3
   },
   "file_extension": ".py",
   "mimetype": "text/x-python",
   "name": "python",
   "nbconvert_exporter": "python",
   "pygments_lexer": "ipython3",
   "version": "3.10.13"
  }
 },
 "nbformat": 4,
 "nbformat_minor": 5
}
